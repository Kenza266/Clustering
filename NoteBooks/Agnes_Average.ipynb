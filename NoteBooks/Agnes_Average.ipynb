{
 "cells": [
  {
   "cell_type": "code",
   "execution_count": 1,
   "metadata": {},
   "outputs": [],
   "source": [
    "import time\n",
    "import numpy as np\n",
    "import pandas as pd\n",
    "from tqdm import tqdm\n",
    "\n",
    "import matplotlib.pyplot as plt\n",
    "\n",
    "import warnings\n",
    "warnings.filterwarnings(\"ignore\") \n",
    "\n",
    "import sys\n",
    "sys.path.append('../')\n",
    "from Agnes import Agnes\n",
    "from utils import report\n",
    "from DBscan import DBscan \n",
    "\n",
    "cmap = 'Spectral'"
   ]
  },
  {
   "cell_type": "code",
   "execution_count": 2,
   "metadata": {},
   "outputs": [],
   "source": [
    "data = pd.read_csv('datset.csv') \n",
    "cat = ['OverTime', 'MaritalStatus', 'JobRole', 'Gender', 'EducationField', 'Department', 'BusinessTravel', 'Attrition']\n",
    "data = data.drop(['EmployeeCount', 'Over18', 'StandardHours', 'EmployeeNumber'], axis=1)\n",
    "for i in cat:\n",
    "    data[i] = (data[i].astype('category').cat.codes).apply(np.int64)\n",
    "X, y = data.drop(['Attrition'], axis=1), data['Attrition']"
   ]
  },
  {
   "cell_type": "code",
   "execution_count": 3,
   "metadata": {},
   "outputs": [],
   "source": [
    "X, y = np.array(X), list(y)\n",
    "\n",
    "data_x = data.drop(['Attrition'], axis=1)\n",
    "X_standardized = np.array((data_x - data_x.mean()) / data_x.std())\n",
    "X_normalized = np.array(((data_x - data_x.min()) / (data_x.max() - data_x.min())))"
   ]
  },
  {
   "attachments": {},
   "cell_type": "markdown",
   "metadata": {},
   "source": [
    "# Average"
   ]
  },
  {
   "cell_type": "code",
   "execution_count": null,
   "metadata": {},
   "outputs": [],
   "source": [
    "agnes = Agnes('manhattan', 'average') \n",
    "dist_matrix = np.load('..//Distance_matrices//Distances_Manhattan.npy') \n",
    "     \n",
    "start = time.time()\n",
    "cluster_id_M, cluster_id_M, clusters_M, distances_M, nb_clusters_M = agnes.cluster(X, dist_matrix=dist_matrix) \n",
    "end = time.time() - start\n",
    "print('Manhattan done', end)\n",
    "\n",
    "agnes = Agnes('manhattan',  'average') \n",
    "dist_matrix = np.load('..//Distance_matrices//Distances_Manhattan_Norm.npy') \n",
    "     \n",
    "start = time.time()\n",
    "cluster_id_N, cluster_id_N, clusters_N, distances_N, nb_clusters_N = agnes.cluster(X_normalized, dist_matrix=dist_matrix) \n",
    "end = time.time() - start\n",
    "print('Manhattan Norm done', end)\n",
    "\n",
    "agnes = Agnes('manhattan', 'average') \n",
    "dist_matrix = np.load('..//Distance_matrices//Distances_Manhattan_Std.npy') \n",
    "     \n",
    "start = time.time()\n",
    "cluster_id_S, clusters_S, distances_S, nb_clusters_S = agnes.cluster(X_standardized, dist_matrix=dist_matrix) \n",
    "end = time.time() - start\n",
    "print('Manhattan Std done', end)\n",
    "\n",
    "agnes = Agnes('hamming', 'average') \n",
    "dist_matrix = np.load('..//Distance_matrices//Distances_Hamming.npy') \n",
    "     \n",
    "start = time.time()\n",
    "cluster_id_H, cluster_id_H, clusters_H, distances_H, nb_clusters_H = agnes.cluster(X, dist_matrix=dist_matrix) \n",
    "end = time.time() - start\n",
    "print('Hamming done', end) "
   ]
  },
  {
   "cell_type": "code",
   "execution_count": null,
   "metadata": {},
   "outputs": [],
   "source": [
    "fig, ax = plt.subplots()\n",
    "ax.plot(distances_H, color='orange', label='Min Ditsance')\n",
    "ax.tick_params(axis='y', labelcolor='orange')\n",
    "ax.set_xlabel('#Iterations')\n",
    "ax.set_ylabel('Min ditsance')\n",
    "\n",
    "ax2 = ax.twinx()\n",
    "ax2.plot(nb_clusters_H, color='purple', label='#Clusters')\n",
    "ax2.set_yscale('log')\n",
    "ax2.tick_params(axis='y', labelcolor='purple')\n",
    "ax2.set_ylabel('#Clusters')\n",
    "\n",
    "ax.set_title('Evolution')\n",
    "plt.show()"
   ]
  },
  {
   "cell_type": "code",
   "execution_count": null,
   "metadata": {},
   "outputs": [],
   "source": [
    "fig, ax = plt.subplots()\n",
    "ax.plot(distances_M, color='orange', label='Min Ditsance')\n",
    "ax.tick_params(axis='y', labelcolor='orange')\n",
    "ax.set_xlabel('#Iterations')\n",
    "ax.set_ylabel('Min ditsance')\n",
    "\n",
    "ax2 = ax.twinx()\n",
    "ax2.plot(nb_clusters_M, color='purple', label='#Clusters')\n",
    "ax2.set_yscale('log')\n",
    "ax2.tick_params(axis='y', labelcolor='purple')\n",
    "ax2.set_ylabel('#Clusters')\n",
    "\n",
    "ax.set_title('Evolution')\n",
    "plt.show()"
   ]
  },
  {
   "cell_type": "code",
   "execution_count": null,
   "metadata": {},
   "outputs": [],
   "source": [
    "fig, ax = plt.subplots()\n",
    "ax.plot(distances_N, color='orange', label='Min Ditsance')\n",
    "ax.tick_params(axis='y', labelcolor='orange')\n",
    "ax.set_xlabel('#Iterations')\n",
    "ax.set_ylabel('Min ditsance')\n",
    "\n",
    "ax2 = ax.twinx()\n",
    "ax2.plot(nb_clusters_N, color='purple', label='#Clusters')\n",
    "ax2.set_yscale('log')\n",
    "ax2.tick_params(axis='y', labelcolor='purple')\n",
    "ax2.set_ylabel('#Clusters')\n",
    "\n",
    "ax.set_title('Evolution')\n",
    "plt.show()"
   ]
  },
  {
   "cell_type": "code",
   "execution_count": null,
   "metadata": {},
   "outputs": [],
   "source": [
    "fig, ax = plt.subplots()\n",
    "ax.plot(distances_S, color='orange', label='Min Ditsance')\n",
    "ax.tick_params(axis='y', labelcolor='orange')\n",
    "ax.set_xlabel('#Iterations')\n",
    "ax.set_ylabel('Min ditsance')\n",
    "\n",
    "ax2 = ax.twinx()\n",
    "ax2.plot(nb_clusters_S, color='purple', label='#Clusters')\n",
    "ax2.set_yscale('log')\n",
    "ax2.tick_params(axis='y', labelcolor='purple')\n",
    "ax2.set_ylabel('#Clusters')\n",
    "\n",
    "ax.set_title('Evolution')\n",
    "plt.show()"
   ]
  },
  {
   "cell_type": "code",
   "execution_count": null,
   "metadata": {},
   "outputs": [],
   "source": [
    "report(y, [1 if i in cluster_id_H[1] else 0 for i in range(len(X))])"
   ]
  },
  {
   "cell_type": "code",
   "execution_count": null,
   "metadata": {},
   "outputs": [],
   "source": [
    "report(y, [1 if i in cluster_id_M[1] else 0 for i in range(len(X))])"
   ]
  },
  {
   "cell_type": "code",
   "execution_count": null,
   "metadata": {},
   "outputs": [],
   "source": [
    "report(y, [1 if i in cluster_id_N[1] else 0 for i in range(len(X))])"
   ]
  },
  {
   "cell_type": "code",
   "execution_count": null,
   "metadata": {},
   "outputs": [],
   "source": [
    "report(y, [1 if i in cluster_id_S[1] else 0 for i in range(len(X))])"
   ]
  }
 ],
 "metadata": {
  "kernelspec": {
   "display_name": "Python 3",
   "language": "python",
   "name": "python3"
  },
  "language_info": {
   "codemirror_mode": {
    "name": "ipython",
    "version": 3
   },
   "file_extension": ".py",
   "mimetype": "text/x-python",
   "name": "python",
   "nbconvert_exporter": "python",
   "pygments_lexer": "ipython3",
   "version": "3.9.4"
  },
  "orig_nbformat": 4,
  "vscode": {
   "interpreter": {
    "hash": "5addf786bcd861d1ce5006f23111f8cbb206731e5b61b0a5632ba9e0252558a8"
   }
  }
 },
 "nbformat": 4,
 "nbformat_minor": 2
}
